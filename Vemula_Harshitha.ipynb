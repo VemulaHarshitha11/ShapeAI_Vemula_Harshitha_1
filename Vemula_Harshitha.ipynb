{
  "nbformat": 4,
  "nbformat_minor": 0,
  "metadata": {
    "colab": {
      "name": "Vemula_Harshitha.ipynb",
      "provenance": []
    },
    "kernelspec": {
      "name": "python3",
      "display_name": "Python 3"
    },
    "language_info": {
      "name": "python"
    }
  },
  "cells": [
    {
      "cell_type": "code",
      "metadata": {
        "colab": {
          "base_uri": "https://localhost:8080/"
        },
        "id": "9PRGWNpwFeAL",
        "outputId": "c85e3e7a-3578-4e51-f412-e9a0cd193174"
      },
      "source": [
        "from keras.datasets import mnist\n",
        "from keras.models import Sequential\n",
        "from keras.layers import Dense\n",
        "from keras.utils import np_utils\n",
        "# load data\n",
        "(X_train, y_train), (X_test, y_test) = mnist.load_data()\n",
        "# flatten 28*28 images to a 784 vector for each image\n",
        "num_pixels = X_train.shape[1] * X_train.shape[2]\n",
        "X_train = X_train.reshape((X_train.shape[0], num_pixels)).astype('float32')\n",
        "X_test = X_test.reshape((X_test.shape[0], num_pixels)).astype('float32')\n",
        "# normalize inputs from 0-255 to 0-1\n",
        "X_train = X_train / 255\n",
        "X_test = X_test / 255\n",
        "# one hot encode outputs\n",
        "y_train = np_utils.to_categorical(y_train)\n",
        "y_test = np_utils.to_categorical(y_test)\n",
        "num_classes = y_test.shape[1]\n",
        "# define baseline model\n",
        "def baseline_model():\n",
        "# create model\n",
        "    model=Sequential()\n",
        "    model.add(Dense(num_pixels, input_dim=num_pixels, kernel_initializer='normal', activation='relu'))\n",
        "    model.add(Dense(num_classes, kernel_initializer='normal', activation='softmax'))\n",
        "# Compile model\n",
        "    model.compile(loss='categorical_crossentropy', optimizer='adam', metrics=['accuracy'])\n",
        "    return model\n",
        "# build the model\n",
        "model = baseline_model()\n",
        "# Fit the model\n",
        "model.fit(X_train, y_train, validation_data=(X_test, y_test), epochs=10, batch_size=200, verbose=2)\n",
        "# Final evaluation of the model\n",
        "scores = model.evaluate(X_test, y_test, verbose=0)\n",
        "print(\"Baseline Error: %.2f%%\" % (100-scores[1]*100))\n"
      ],
      "execution_count": 1,
      "outputs": [
        {
          "output_type": "stream",
          "text": [
            "Downloading data from https://storage.googleapis.com/tensorflow/tf-keras-datasets/mnist.npz\n",
            "11493376/11490434 [==============================] - 0s 0us/step\n",
            "Epoch 1/10\n",
            "300/300 - 4s - loss: 0.2794 - accuracy: 0.9214 - val_loss: 0.1393 - val_accuracy: 0.9591\n",
            "Epoch 2/10\n",
            "300/300 - 3s - loss: 0.1102 - accuracy: 0.9679 - val_loss: 0.1017 - val_accuracy: 0.9698\n",
            "Epoch 3/10\n",
            "300/300 - 3s - loss: 0.0719 - accuracy: 0.9793 - val_loss: 0.0785 - val_accuracy: 0.9758\n",
            "Epoch 4/10\n",
            "300/300 - 3s - loss: 0.0498 - accuracy: 0.9854 - val_loss: 0.0669 - val_accuracy: 0.9793\n",
            "Epoch 5/10\n",
            "300/300 - 3s - loss: 0.0361 - accuracy: 0.9898 - val_loss: 0.0631 - val_accuracy: 0.9800\n",
            "Epoch 6/10\n",
            "300/300 - 3s - loss: 0.0274 - accuracy: 0.9928 - val_loss: 0.0642 - val_accuracy: 0.9802\n",
            "Epoch 7/10\n",
            "300/300 - 3s - loss: 0.0190 - accuracy: 0.9956 - val_loss: 0.0645 - val_accuracy: 0.9801\n",
            "Epoch 8/10\n",
            "300/300 - 3s - loss: 0.0148 - accuracy: 0.9968 - val_loss: 0.0643 - val_accuracy: 0.9801\n",
            "Epoch 9/10\n",
            "300/300 - 3s - loss: 0.0108 - accuracy: 0.9980 - val_loss: 0.0583 - val_accuracy: 0.9829\n",
            "Epoch 10/10\n",
            "300/300 - 3s - loss: 0.0084 - accuracy: 0.9985 - val_loss: 0.0586 - val_accuracy: 0.9817\n",
            "Baseline Error: 1.83%\n"
          ],
          "name": "stdout"
        }
      ]
    }
  ]
}